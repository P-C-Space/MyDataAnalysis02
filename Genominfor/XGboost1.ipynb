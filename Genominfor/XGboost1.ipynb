{
 "cells": [
  {
   "attachments": {},
   "cell_type": "markdown",
   "metadata": {},
   "source": [
    "### 라이브러리"
   ]
  },
  {
   "cell_type": "code",
   "execution_count": 2,
   "metadata": {},
   "outputs": [],
   "source": [
    "import pandas as pd\n",
    "import numpy as np\n",
    "import tensorflow as tf\n",
    "import matplotlib.pyplot as plt\n",
    "import seaborn as sns"
   ]
  },
  {
   "attachments": {},
   "cell_type": "markdown",
   "metadata": {},
   "source": [
    "### 데이터 살펴보기"
   ]
  },
  {
   "cell_type": "code",
   "execution_count": 3,
   "metadata": {},
   "outputs": [],
   "source": [
    "train = pd.read_csv(\"./data/train.csv\")\n",
    "test = pd.read_csv(\"./data/test.csv\")"
   ]
  },
  {
   "cell_type": "code",
   "execution_count": 4,
   "metadata": {},
   "outputs": [
    {
     "data": {
      "text/plain": [
       "Index(['id', 'father', 'mother', 'gender', 'trait', 'SNP_01', 'SNP_02',\n",
       "       'SNP_03', 'SNP_04', 'SNP_05', 'SNP_06', 'SNP_07', 'SNP_08', 'SNP_09',\n",
       "       'SNP_10', 'SNP_11', 'SNP_12', 'SNP_13', 'SNP_14', 'SNP_15', 'class'],\n",
       "      dtype='object')"
      ]
     },
     "execution_count": 4,
     "metadata": {},
     "output_type": "execute_result"
    }
   ],
   "source": [
    "train.columns"
   ]
  },
  {
   "cell_type": "code",
   "execution_count": 5,
   "metadata": {},
   "outputs": [
    {
     "data": {
      "text/plain": [
       "Index(['id', 'father', 'mother', 'gender', 'trait', 'SNP_01', 'SNP_02',\n",
       "       'SNP_03', 'SNP_04', 'SNP_05', 'SNP_06', 'SNP_07', 'SNP_08', 'SNP_09',\n",
       "       'SNP_10', 'SNP_11', 'SNP_12', 'SNP_13', 'SNP_14', 'SNP_15'],\n",
       "      dtype='object')"
      ]
     },
     "execution_count": 5,
     "metadata": {},
     "output_type": "execute_result"
    }
   ],
   "source": [
    "test.columns"
   ]
  },
  {
   "cell_type": "code",
   "execution_count": 6,
   "metadata": {},
   "outputs": [],
   "source": [
    "submitdata = pd.read_csv(\"./data/sample_submission.csv\")"
   ]
  },
  {
   "cell_type": "code",
   "execution_count": 7,
   "metadata": {},
   "outputs": [
    {
     "data": {
      "text/plain": [
       "Index(['id', 'class'], dtype='object')"
      ]
     },
     "execution_count": 7,
     "metadata": {},
     "output_type": "execute_result"
    }
   ],
   "source": [
    "submitdata.columns"
   ]
  },
  {
   "attachments": {},
   "cell_type": "markdown",
   "metadata": {},
   "source": [
    "### Train & Test Label Encoding"
   ]
  },
  {
   "cell_type": "code",
   "execution_count": 8,
   "metadata": {},
   "outputs": [],
   "source": [
    "from sklearn.preprocessing import LabelEncoder\n",
    "le = LabelEncoder()\n",
    "\n",
    "train['SNP_01_Label'] = le.fit_transform(train['SNP_01'])\n",
    "train['SNP_02_Label'] = le.fit_transform(train['SNP_02'])\n",
    "train['SNP_03_Label'] = le.fit_transform(train['SNP_03'])\n",
    "train['SNP_04_Label'] = le.fit_transform(train['SNP_04'])\n",
    "train['SNP_05_Label'] = le.fit_transform(train['SNP_05'])\n",
    "train['SNP_06_Label'] = le.fit_transform(train['SNP_06'])\n",
    "train['SNP_07_Label'] = le.fit_transform(train['SNP_07'])\n",
    "train['SNP_08_Label'] = le.fit_transform(train['SNP_08'])\n",
    "train['SNP_09_Label'] = le.fit_transform(train['SNP_09'])\n",
    "train['SNP_10_Label'] = le.fit_transform(train['SNP_10'])\n",
    "train['SNP_11_Label'] = le.fit_transform(train['SNP_11'])\n",
    "train['SNP_12_Label'] = le.fit_transform(train['SNP_12'])\n",
    "train['SNP_13_Label'] = le.fit_transform(train['SNP_13'])\n",
    "train['SNP_14_Label'] = le.fit_transform(train['SNP_14'])\n",
    "train['SNP_15_Label'] = le.fit_transform(train['SNP_15'])\n",
    "\n",
    "train['class_Label'] = le.fit_transform(train['class'])\n",
    "\n",
    "sel = [\"SNP_01\",\"SNP_02\",\"SNP_03\",\"SNP_04\",\"SNP_05\",\"SNP_06\",\"SNP_07\",\"SNP_08\",\"SNP_09\",\"SNP_10\",\n",
    "        \"SNP_11\",\"SNP_12\",\"SNP_13\",\"SNP_14\",\"SNP_15\",'class']\n",
    "train = train.drop(sel,axis=1)"
   ]
  },
  {
   "cell_type": "code",
   "execution_count": 9,
   "metadata": {},
   "outputs": [],
   "source": [
    "test['SNP_01_Label'] = le.fit_transform(test['SNP_01'])\n",
    "test['SNP_02_Label'] = le.fit_transform(test['SNP_02'])\n",
    "test['SNP_03_Label'] = le.fit_transform(test['SNP_03'])\n",
    "test['SNP_04_Label'] = le.fit_transform(test['SNP_04'])\n",
    "test['SNP_05_Label'] = le.fit_transform(test['SNP_05'])\n",
    "test['SNP_06_Label'] = le.fit_transform(test['SNP_06'])\n",
    "test['SNP_07_Label'] = le.fit_transform(test['SNP_07'])\n",
    "test['SNP_08_Label'] = le.fit_transform(test['SNP_08'])\n",
    "test['SNP_09_Label'] = le.fit_transform(test['SNP_09'])\n",
    "test['SNP_10_Label'] = le.fit_transform(test['SNP_10'])\n",
    "test['SNP_11_Label'] = le.fit_transform(test['SNP_11'])\n",
    "test['SNP_12_Label'] = le.fit_transform(test['SNP_12'])\n",
    "test['SNP_13_Label'] = le.fit_transform(test['SNP_13'])\n",
    "test['SNP_14_Label'] = le.fit_transform(test['SNP_14'])\n",
    "test['SNP_15_Label'] = le.fit_transform(test['SNP_15'])\n",
    "\n",
    "\n",
    "sel = [\"SNP_01\",\"SNP_02\",\"SNP_03\",\"SNP_04\",\"SNP_05\",\"SNP_06\",\"SNP_07\",\"SNP_08\",\"SNP_09\",\"SNP_10\",\n",
    "        \"SNP_11\",\"SNP_12\",\"SNP_13\",\"SNP_14\",\"SNP_15\"]\n",
    "test = test.drop(sel,axis=1)"
   ]
  },
  {
   "cell_type": "code",
   "execution_count": 10,
   "metadata": {},
   "outputs": [],
   "source": [
    "train = train.drop(\"id\",axis=1)\n",
    "test = test.drop(\"id\",axis=1)"
   ]
  },
  {
   "cell_type": "code",
   "execution_count": 11,
   "metadata": {},
   "outputs": [
    {
     "name": "stdout",
     "output_type": "stream",
     "text": [
      "<class 'pandas.core.frame.DataFrame'>\n",
      "RangeIndex: 262 entries, 0 to 261\n",
      "Data columns (total 20 columns):\n",
      " #   Column        Non-Null Count  Dtype\n",
      "---  ------        --------------  -----\n",
      " 0   father        262 non-null    int64\n",
      " 1   mother        262 non-null    int64\n",
      " 2   gender        262 non-null    int64\n",
      " 3   trait         262 non-null    int64\n",
      " 4   SNP_01_Label  262 non-null    int32\n",
      " 5   SNP_02_Label  262 non-null    int32\n",
      " 6   SNP_03_Label  262 non-null    int32\n",
      " 7   SNP_04_Label  262 non-null    int32\n",
      " 8   SNP_05_Label  262 non-null    int32\n",
      " 9   SNP_06_Label  262 non-null    int32\n",
      " 10  SNP_07_Label  262 non-null    int32\n",
      " 11  SNP_08_Label  262 non-null    int32\n",
      " 12  SNP_09_Label  262 non-null    int32\n",
      " 13  SNP_10_Label  262 non-null    int32\n",
      " 14  SNP_11_Label  262 non-null    int32\n",
      " 15  SNP_12_Label  262 non-null    int32\n",
      " 16  SNP_13_Label  262 non-null    int32\n",
      " 17  SNP_14_Label  262 non-null    int32\n",
      " 18  SNP_15_Label  262 non-null    int32\n",
      " 19  class_Label   262 non-null    int32\n",
      "dtypes: int32(16), int64(4)\n",
      "memory usage: 24.7 KB\n"
     ]
    }
   ],
   "source": [
    "train.info()"
   ]
  },
  {
   "cell_type": "code",
   "execution_count": 12,
   "metadata": {},
   "outputs": [
    {
     "name": "stdout",
     "output_type": "stream",
     "text": [
      "<class 'pandas.core.frame.DataFrame'>\n",
      "RangeIndex: 175 entries, 0 to 174\n",
      "Data columns (total 19 columns):\n",
      " #   Column        Non-Null Count  Dtype\n",
      "---  ------        --------------  -----\n",
      " 0   father        175 non-null    int64\n",
      " 1   mother        175 non-null    int64\n",
      " 2   gender        175 non-null    int64\n",
      " 3   trait         175 non-null    int64\n",
      " 4   SNP_01_Label  175 non-null    int32\n",
      " 5   SNP_02_Label  175 non-null    int32\n",
      " 6   SNP_03_Label  175 non-null    int32\n",
      " 7   SNP_04_Label  175 non-null    int32\n",
      " 8   SNP_05_Label  175 non-null    int32\n",
      " 9   SNP_06_Label  175 non-null    int32\n",
      " 10  SNP_07_Label  175 non-null    int32\n",
      " 11  SNP_08_Label  175 non-null    int32\n",
      " 12  SNP_09_Label  175 non-null    int32\n",
      " 13  SNP_10_Label  175 non-null    int32\n",
      " 14  SNP_11_Label  175 non-null    int32\n",
      " 15  SNP_12_Label  175 non-null    int32\n",
      " 16  SNP_13_Label  175 non-null    int32\n",
      " 17  SNP_14_Label  175 non-null    int32\n",
      " 18  SNP_15_Label  175 non-null    int32\n",
      "dtypes: int32(15), int64(4)\n",
      "memory usage: 15.8 KB\n"
     ]
    }
   ],
   "source": [
    "test.info()"
   ]
  },
  {
   "cell_type": "code",
   "execution_count": 13,
   "metadata": {},
   "outputs": [],
   "source": [
    "from sklearn.model_selection import train_test_split\n",
    "\n",
    "X = train.drop(\"class_Label\",axis=1)\n",
    "X = np.array(X.iloc[:-1])\n",
    "\n",
    "y = train['class_Label']"
   ]
  },
  {
   "cell_type": "code",
   "execution_count": 14,
   "metadata": {},
   "outputs": [],
   "source": [
    "from xgboost import XGBClassifier\n",
    "from sklearn.model_selection import KFold\n",
    "from sklearn.model_selection import cross_val_score\n",
    "from sklearn.metrics import accuracy_score\n",
    "\n",
    "history = []\n",
    "\n",
    "kf = KFold(n_splits=7,shuffle = True, random_state=3)\n",
    "model = XGBClassifier(n_estimators = 20000,max_depth = 5,learning_rate = 0.15,random_state=2)\n",
    "\n",
    "\n",
    "for train_idx,test_idx in kf.split(X):\n",
    "\n",
    "    X_train, X_test = X[train_idx], X[test_idx]\n",
    "    y_train, y_test = y[train_idx], y[test_idx]\n",
    "    \n",
    "    model.fit(X_train,y_train)\n",
    "    y_pred = model.predict(X_test)\n",
    "    history.append(accuracy_score(y_pred,y_test))\n",
    "\n"
   ]
  },
  {
   "cell_type": "code",
   "execution_count": 15,
   "metadata": {},
   "outputs": [],
   "source": [
    "pred = model.predict(test)"
   ]
  },
  {
   "cell_type": "code",
   "execution_count": 16,
   "metadata": {},
   "outputs": [
    {
     "name": "stdout",
     "output_type": "stream",
     "text": [
      "각 분할의 정확도 기록 : [0.9473684210526315, 0.9210526315789473, 0.972972972972973, 0.9459459459459459, 0.9459459459459459, 0.9459459459459459, 0.8648648648648649]\n",
      "평균 정확도 : 0.9348709611867506\n"
     ]
    }
   ],
   "source": [
    "print(\"각 분할의 정확도 기록 :\", history)\n",
    "print(\"평균 정확도 :\", np.mean(history))"
   ]
  },
  {
   "cell_type": "code",
   "execution_count": 17,
   "metadata": {},
   "outputs": [],
   "source": [
    "submit = pd.read_csv('./data/sample_submission.csv')"
   ]
  },
  {
   "cell_type": "code",
   "execution_count": 18,
   "metadata": {},
   "outputs": [],
   "source": [
    "pred_inverslabel = []\n",
    "for i in pred:\n",
    "    if(i == 0):\n",
    "        pred_inverslabel.append(\"A\")\n",
    "    elif(i == 1):\n",
    "        pred_inverslabel.append(\"B\")\n",
    "    elif(i == 2):\n",
    "        pred_inverslabel.append(\"C\")"
   ]
  },
  {
   "cell_type": "code",
   "execution_count": 19,
   "metadata": {},
   "outputs": [],
   "source": [
    "submit['class'] = pred_inverslabel"
   ]
  },
  {
   "cell_type": "code",
   "execution_count": 20,
   "metadata": {},
   "outputs": [],
   "source": [
    "submit.to_csv('./submit/xgboost_submit2.csv', index=False)"
   ]
  }
 ],
 "metadata": {
  "kernelspec": {
   "display_name": "tf22",
   "language": "python",
   "name": "python3"
  },
  "language_info": {
   "codemirror_mode": {
    "name": "ipython",
    "version": 3
   },
   "file_extension": ".py",
   "mimetype": "text/x-python",
   "name": "python",
   "nbconvert_exporter": "python",
   "pygments_lexer": "ipython3",
   "version": "3.8.15 (default, Nov  4 2022, 15:16:59) [MSC v.1916 64 bit (AMD64)]"
  },
  "orig_nbformat": 4,
  "vscode": {
   "interpreter": {
    "hash": "4fed360fcce9d32d67009344cdf42ada3f922858979278fbb06c048961c3055e"
   }
  }
 },
 "nbformat": 4,
 "nbformat_minor": 2
}
