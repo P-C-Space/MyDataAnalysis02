{
 "cells": [
  {
   "attachments": {},
   "cell_type": "markdown",
   "metadata": {},
   "source": [
    "### 라이브러리"
   ]
  },
  {
   "cell_type": "code",
   "execution_count": 23,
   "metadata": {},
   "outputs": [],
   "source": [
    "import pandas as pd\n",
    "import numpy as np\n",
    "import tensorflow as tf\n",
    "import matplotlib.pyplot as plt\n",
    "import seaborn as sns"
   ]
  },
  {
   "attachments": {},
   "cell_type": "markdown",
   "metadata": {},
   "source": [
    "### 데이터 살펴보기"
   ]
  },
  {
   "cell_type": "code",
   "execution_count": 24,
   "metadata": {},
   "outputs": [],
   "source": [
    "train = pd.read_csv(\"./data/train.csv\")\n",
    "test = pd.read_csv(\"./data/test.csv\")"
   ]
  },
  {
   "cell_type": "code",
   "execution_count": 25,
   "metadata": {},
   "outputs": [
    {
     "data": {
      "text/plain": [
       "Index(['id', 'father', 'mother', 'gender', 'trait', 'SNP_01', 'SNP_02',\n",
       "       'SNP_03', 'SNP_04', 'SNP_05', 'SNP_06', 'SNP_07', 'SNP_08', 'SNP_09',\n",
       "       'SNP_10', 'SNP_11', 'SNP_12', 'SNP_13', 'SNP_14', 'SNP_15', 'class'],\n",
       "      dtype='object')"
      ]
     },
     "execution_count": 25,
     "metadata": {},
     "output_type": "execute_result"
    }
   ],
   "source": [
    "train.columns"
   ]
  },
  {
   "cell_type": "code",
   "execution_count": 26,
   "metadata": {},
   "outputs": [
    {
     "data": {
      "text/plain": [
       "Index(['id', 'father', 'mother', 'gender', 'trait', 'SNP_01', 'SNP_02',\n",
       "       'SNP_03', 'SNP_04', 'SNP_05', 'SNP_06', 'SNP_07', 'SNP_08', 'SNP_09',\n",
       "       'SNP_10', 'SNP_11', 'SNP_12', 'SNP_13', 'SNP_14', 'SNP_15'],\n",
       "      dtype='object')"
      ]
     },
     "execution_count": 26,
     "metadata": {},
     "output_type": "execute_result"
    }
   ],
   "source": [
    "test.columns"
   ]
  },
  {
   "cell_type": "code",
   "execution_count": 27,
   "metadata": {},
   "outputs": [],
   "source": [
    "submitdata = pd.read_csv(\"./data/sample_submission.csv\")"
   ]
  },
  {
   "cell_type": "code",
   "execution_count": 28,
   "metadata": {},
   "outputs": [
    {
     "data": {
      "text/plain": [
       "Index(['id', 'class'], dtype='object')"
      ]
     },
     "execution_count": 28,
     "metadata": {},
     "output_type": "execute_result"
    }
   ],
   "source": [
    "submitdata.columns"
   ]
  },
  {
   "attachments": {},
   "cell_type": "markdown",
   "metadata": {},
   "source": [
    "### Train & Test Label Encoding"
   ]
  },
  {
   "cell_type": "code",
   "execution_count": 29,
   "metadata": {},
   "outputs": [],
   "source": [
    "from sklearn.preprocessing import LabelEncoder\n",
    "le = LabelEncoder()\n",
    "\n",
    "train['SNP_01_Label'] = le.fit_transform(train['SNP_01'])\n",
    "train['SNP_02_Label'] = le.fit_transform(train['SNP_02'])\n",
    "train['SNP_03_Label'] = le.fit_transform(train['SNP_03'])\n",
    "train['SNP_04_Label'] = le.fit_transform(train['SNP_04'])\n",
    "train['SNP_05_Label'] = le.fit_transform(train['SNP_05'])\n",
    "train['SNP_06_Label'] = le.fit_transform(train['SNP_06'])\n",
    "train['SNP_07_Label'] = le.fit_transform(train['SNP_07'])\n",
    "train['SNP_08_Label'] = le.fit_transform(train['SNP_08'])\n",
    "train['SNP_09_Label'] = le.fit_transform(train['SNP_09'])\n",
    "train['SNP_10_Label'] = le.fit_transform(train['SNP_10'])\n",
    "train['SNP_11_Label'] = le.fit_transform(train['SNP_11'])\n",
    "train['SNP_12_Label'] = le.fit_transform(train['SNP_12'])\n",
    "train['SNP_13_Label'] = le.fit_transform(train['SNP_13'])\n",
    "train['SNP_14_Label'] = le.fit_transform(train['SNP_14'])\n",
    "train['SNP_15_Label'] = le.fit_transform(train['SNP_15'])\n",
    "\n",
    "train['class_Label'] = le.fit_transform(train['class'])\n",
    "\n",
    "sel = [\"SNP_01\",\"SNP_02\",\"SNP_03\",\"SNP_04\",\"SNP_05\",\"SNP_06\",\"SNP_07\",\"SNP_08\",\"SNP_09\",\"SNP_10\",\n",
    "        \"SNP_11\",\"SNP_12\",\"SNP_13\",\"SNP_14\",\"SNP_15\",'class']\n",
    "train = train.drop(sel,axis=1)"
   ]
  },
  {
   "cell_type": "code",
   "execution_count": 30,
   "metadata": {},
   "outputs": [],
   "source": [
    "test['SNP_01_Label'] = le.fit_transform(test['SNP_01'])\n",
    "test['SNP_02_Label'] = le.fit_transform(test['SNP_02'])\n",
    "test['SNP_03_Label'] = le.fit_transform(test['SNP_03'])\n",
    "test['SNP_04_Label'] = le.fit_transform(test['SNP_04'])\n",
    "test['SNP_05_Label'] = le.fit_transform(test['SNP_05'])\n",
    "test['SNP_06_Label'] = le.fit_transform(test['SNP_06'])\n",
    "test['SNP_07_Label'] = le.fit_transform(test['SNP_07'])\n",
    "test['SNP_08_Label'] = le.fit_transform(test['SNP_08'])\n",
    "test['SNP_09_Label'] = le.fit_transform(test['SNP_09'])\n",
    "test['SNP_10_Label'] = le.fit_transform(test['SNP_10'])\n",
    "test['SNP_11_Label'] = le.fit_transform(test['SNP_11'])\n",
    "test['SNP_12_Label'] = le.fit_transform(test['SNP_12'])\n",
    "test['SNP_13_Label'] = le.fit_transform(test['SNP_13'])\n",
    "test['SNP_14_Label'] = le.fit_transform(test['SNP_14'])\n",
    "test['SNP_15_Label'] = le.fit_transform(test['SNP_15'])\n",
    "\n",
    "\n",
    "sel = [\"SNP_01\",\"SNP_02\",\"SNP_03\",\"SNP_04\",\"SNP_05\",\"SNP_06\",\"SNP_07\",\"SNP_08\",\"SNP_09\",\"SNP_10\",\n",
    "        \"SNP_11\",\"SNP_12\",\"SNP_13\",\"SNP_14\",\"SNP_15\"]\n",
    "test = test.drop(sel,axis=1)"
   ]
  },
  {
   "cell_type": "code",
   "execution_count": 31,
   "metadata": {},
   "outputs": [],
   "source": [
    "train = train.drop(\"id\",axis=1)\n",
    "test = test.drop(\"id\",axis=1)"
   ]
  },
  {
   "cell_type": "code",
   "execution_count": 32,
   "metadata": {},
   "outputs": [
    {
     "data": {
      "text/plain": [
       "Index(['father', 'mother', 'gender', 'trait', 'SNP_01_Label', 'SNP_02_Label',\n",
       "       'SNP_03_Label', 'SNP_04_Label', 'SNP_05_Label', 'SNP_06_Label',\n",
       "       'SNP_07_Label', 'SNP_08_Label', 'SNP_09_Label', 'SNP_10_Label',\n",
       "       'SNP_11_Label', 'SNP_12_Label', 'SNP_13_Label', 'SNP_14_Label',\n",
       "       'SNP_15_Label', 'class_Label'],\n",
       "      dtype='object')"
      ]
     },
     "execution_count": 32,
     "metadata": {},
     "output_type": "execute_result"
    }
   ],
   "source": [
    "train.columns"
   ]
  },
  {
   "cell_type": "code",
   "execution_count": 33,
   "metadata": {},
   "outputs": [],
   "source": [
    "use_sel = ['trait', 'SNP_01_Label', 'SNP_02_Label',\n",
    "       'SNP_03_Label', 'SNP_04_Label', 'SNP_05_Label', 'SNP_06_Label',\n",
    "       'SNP_07_Label', 'SNP_08_Label', 'SNP_09_Label', 'SNP_10_Label',\n",
    "       'SNP_11_Label', 'SNP_12_Label', 'SNP_13_Label', 'SNP_14_Label',\n",
    "       'SNP_15_Label']"
   ]
  },
  {
   "cell_type": "code",
   "execution_count": 34,
   "metadata": {},
   "outputs": [
    {
     "name": "stdout",
     "output_type": "stream",
     "text": [
      "<class 'pandas.core.frame.DataFrame'>\n",
      "RangeIndex: 262 entries, 0 to 261\n",
      "Data columns (total 20 columns):\n",
      " #   Column        Non-Null Count  Dtype\n",
      "---  ------        --------------  -----\n",
      " 0   father        262 non-null    int64\n",
      " 1   mother        262 non-null    int64\n",
      " 2   gender        262 non-null    int64\n",
      " 3   trait         262 non-null    int64\n",
      " 4   SNP_01_Label  262 non-null    int32\n",
      " 5   SNP_02_Label  262 non-null    int32\n",
      " 6   SNP_03_Label  262 non-null    int32\n",
      " 7   SNP_04_Label  262 non-null    int32\n",
      " 8   SNP_05_Label  262 non-null    int32\n",
      " 9   SNP_06_Label  262 non-null    int32\n",
      " 10  SNP_07_Label  262 non-null    int32\n",
      " 11  SNP_08_Label  262 non-null    int32\n",
      " 12  SNP_09_Label  262 non-null    int32\n",
      " 13  SNP_10_Label  262 non-null    int32\n",
      " 14  SNP_11_Label  262 non-null    int32\n",
      " 15  SNP_12_Label  262 non-null    int32\n",
      " 16  SNP_13_Label  262 non-null    int32\n",
      " 17  SNP_14_Label  262 non-null    int32\n",
      " 18  SNP_15_Label  262 non-null    int32\n",
      " 19  class_Label   262 non-null    int32\n",
      "dtypes: int32(16), int64(4)\n",
      "memory usage: 24.7 KB\n"
     ]
    }
   ],
   "source": [
    "train.info()"
   ]
  },
  {
   "cell_type": "code",
   "execution_count": 35,
   "metadata": {},
   "outputs": [
    {
     "name": "stdout",
     "output_type": "stream",
     "text": [
      "<class 'pandas.core.frame.DataFrame'>\n",
      "RangeIndex: 175 entries, 0 to 174\n",
      "Data columns (total 19 columns):\n",
      " #   Column        Non-Null Count  Dtype\n",
      "---  ------        --------------  -----\n",
      " 0   father        175 non-null    int64\n",
      " 1   mother        175 non-null    int64\n",
      " 2   gender        175 non-null    int64\n",
      " 3   trait         175 non-null    int64\n",
      " 4   SNP_01_Label  175 non-null    int32\n",
      " 5   SNP_02_Label  175 non-null    int32\n",
      " 6   SNP_03_Label  175 non-null    int32\n",
      " 7   SNP_04_Label  175 non-null    int32\n",
      " 8   SNP_05_Label  175 non-null    int32\n",
      " 9   SNP_06_Label  175 non-null    int32\n",
      " 10  SNP_07_Label  175 non-null    int32\n",
      " 11  SNP_08_Label  175 non-null    int32\n",
      " 12  SNP_09_Label  175 non-null    int32\n",
      " 13  SNP_10_Label  175 non-null    int32\n",
      " 14  SNP_11_Label  175 non-null    int32\n",
      " 15  SNP_12_Label  175 non-null    int32\n",
      " 16  SNP_13_Label  175 non-null    int32\n",
      " 17  SNP_14_Label  175 non-null    int32\n",
      " 18  SNP_15_Label  175 non-null    int32\n",
      "dtypes: int32(15), int64(4)\n",
      "memory usage: 15.8 KB\n"
     ]
    }
   ],
   "source": [
    "test.info()"
   ]
  },
  {
   "cell_type": "code",
   "execution_count": 36,
   "metadata": {},
   "outputs": [],
   "source": [
    "from sklearn.model_selection import train_test_split\n",
    "\n",
    "X = train[use_sel]\n",
    "X = np.array(X.iloc[:-1])\n",
    "\n",
    "y = train['class_Label']"
   ]
  },
  {
   "cell_type": "code",
   "execution_count": 37,
   "metadata": {},
   "outputs": [
    {
     "name": "stdout",
     "output_type": "stream",
     "text": [
      "Learning rate set to 0.018576\n",
      "0:\tlearn: 1.0800743\ttotal: 403us\tremaining: 2.02s\n",
      "50:\tlearn: 0.5955396\ttotal: 23.8ms\tremaining: 2.31s\n",
      "100:\tlearn: 0.3839391\ttotal: 46.6ms\tremaining: 2.26s\n",
      "150:\tlearn: 0.2745924\ttotal: 73.1ms\tremaining: 2.35s\n",
      "200:\tlearn: 0.2103330\ttotal: 96.8ms\tremaining: 2.31s\n",
      "250:\tlearn: 0.1687786\ttotal: 119ms\tremaining: 2.26s\n",
      "300:\tlearn: 0.1403762\ttotal: 142ms\tremaining: 2.21s\n",
      "350:\tlearn: 0.1189779\ttotal: 165ms\tremaining: 2.19s\n",
      "400:\tlearn: 0.1014292\ttotal: 188ms\tremaining: 2.16s\n",
      "450:\tlearn: 0.0883107\ttotal: 213ms\tremaining: 2.15s\n",
      "500:\tlearn: 0.0779238\ttotal: 238ms\tremaining: 2.14s\n",
      "550:\tlearn: 0.0695157\ttotal: 263ms\tremaining: 2.13s\n",
      "600:\tlearn: 0.0625432\ttotal: 287ms\tremaining: 2.1s\n",
      "650:\tlearn: 0.0568434\ttotal: 309ms\tremaining: 2.06s\n",
      "700:\tlearn: 0.0521157\ttotal: 333ms\tremaining: 2.04s\n",
      "750:\tlearn: 0.0478873\ttotal: 356ms\tremaining: 2.02s\n",
      "800:\tlearn: 0.0442459\ttotal: 380ms\tremaining: 1.99s\n",
      "850:\tlearn: 0.0410171\ttotal: 403ms\tremaining: 1.96s\n",
      "900:\tlearn: 0.0382423\ttotal: 426ms\tremaining: 1.94s\n",
      "950:\tlearn: 0.0358199\ttotal: 449ms\tremaining: 1.91s\n",
      "1000:\tlearn: 0.0336158\ttotal: 472ms\tremaining: 1.89s\n",
      "1050:\tlearn: 0.0316745\ttotal: 495ms\tremaining: 1.86s\n",
      "1100:\tlearn: 0.0299529\ttotal: 518ms\tremaining: 1.83s\n",
      "1150:\tlearn: 0.0283565\ttotal: 541ms\tremaining: 1.81s\n",
      "1200:\tlearn: 0.0269677\ttotal: 565ms\tremaining: 1.79s\n",
      "1250:\tlearn: 0.0256664\ttotal: 588ms\tremaining: 1.76s\n",
      "1300:\tlearn: 0.0245172\ttotal: 611ms\tremaining: 1.74s\n",
      "1350:\tlearn: 0.0233957\ttotal: 636ms\tremaining: 1.72s\n",
      "1400:\tlearn: 0.0223992\ttotal: 663ms\tremaining: 1.7s\n",
      "1450:\tlearn: 0.0214652\ttotal: 688ms\tremaining: 1.68s\n",
      "1500:\tlearn: 0.0205754\ttotal: 714ms\tremaining: 1.67s\n",
      "1550:\tlearn: 0.0198346\ttotal: 740ms\tremaining: 1.64s\n",
      "1600:\tlearn: 0.0191007\ttotal: 765ms\tremaining: 1.62s\n",
      "1650:\tlearn: 0.0184137\ttotal: 791ms\tremaining: 1.6s\n",
      "1700:\tlearn: 0.0177829\ttotal: 821ms\tremaining: 1.59s\n",
      "1750:\tlearn: 0.0172099\ttotal: 847ms\tremaining: 1.57s\n",
      "1800:\tlearn: 0.0166223\ttotal: 874ms\tremaining: 1.55s\n",
      "1850:\tlearn: 0.0160821\ttotal: 903ms\tremaining: 1.54s\n",
      "1900:\tlearn: 0.0155945\ttotal: 933ms\tremaining: 1.52s\n",
      "1950:\tlearn: 0.0151205\ttotal: 963ms\tremaining: 1.5s\n",
      "2000:\tlearn: 0.0146685\ttotal: 990ms\tremaining: 1.48s\n",
      "2050:\tlearn: 0.0142443\ttotal: 1.01s\tremaining: 1.46s\n",
      "2100:\tlearn: 0.0138727\ttotal: 1.04s\tremaining: 1.44s\n",
      "2150:\tlearn: 0.0135024\ttotal: 1.07s\tremaining: 1.41s\n",
      "2200:\tlearn: 0.0131480\ttotal: 1.09s\tremaining: 1.39s\n",
      "2250:\tlearn: 0.0128166\ttotal: 1.12s\tremaining: 1.37s\n",
      "2300:\tlearn: 0.0124987\ttotal: 1.14s\tremaining: 1.34s\n",
      "2350:\tlearn: 0.0121923\ttotal: 1.17s\tremaining: 1.32s\n",
      "2400:\tlearn: 0.0118941\ttotal: 1.2s\tremaining: 1.29s\n",
      "2450:\tlearn: 0.0116147\ttotal: 1.22s\tremaining: 1.27s\n",
      "2500:\tlearn: 0.0113472\ttotal: 1.25s\tremaining: 1.25s\n",
      "2550:\tlearn: 0.0110846\ttotal: 1.27s\tremaining: 1.22s\n",
      "2600:\tlearn: 0.0108450\ttotal: 1.3s\tremaining: 1.2s\n",
      "2650:\tlearn: 0.0106083\ttotal: 1.32s\tremaining: 1.17s\n",
      "2700:\tlearn: 0.0103908\ttotal: 1.35s\tremaining: 1.15s\n",
      "2750:\tlearn: 0.0101764\ttotal: 1.38s\tremaining: 1.13s\n",
      "2800:\tlearn: 0.0099633\ttotal: 1.41s\tremaining: 1.1s\n",
      "2850:\tlearn: 0.0097682\ttotal: 1.44s\tremaining: 1.08s\n",
      "2900:\tlearn: 0.0095790\ttotal: 1.47s\tremaining: 1.06s\n",
      "2950:\tlearn: 0.0093949\ttotal: 1.49s\tremaining: 1.04s\n",
      "3000:\tlearn: 0.0092230\ttotal: 1.52s\tremaining: 1.01s\n",
      "3050:\tlearn: 0.0090648\ttotal: 1.55s\tremaining: 988ms\n",
      "3100:\tlearn: 0.0088962\ttotal: 1.57s\tremaining: 964ms\n",
      "3150:\tlearn: 0.0087343\ttotal: 1.6s\tremaining: 941ms\n",
      "3200:\tlearn: 0.0085895\ttotal: 1.63s\tremaining: 916ms\n",
      "3250:\tlearn: 0.0084536\ttotal: 1.66s\tremaining: 892ms\n",
      "3300:\tlearn: 0.0083157\ttotal: 1.69s\tremaining: 869ms\n",
      "3350:\tlearn: 0.0081760\ttotal: 1.72s\tremaining: 846ms\n",
      "3400:\tlearn: 0.0080473\ttotal: 1.75s\tremaining: 821ms\n",
      "3450:\tlearn: 0.0079203\ttotal: 1.77s\tremaining: 796ms\n",
      "3500:\tlearn: 0.0077945\ttotal: 1.8s\tremaining: 771ms\n",
      "3550:\tlearn: 0.0076736\ttotal: 1.82s\tremaining: 744ms\n",
      "3600:\tlearn: 0.0075587\ttotal: 1.85s\tremaining: 719ms\n",
      "3650:\tlearn: 0.0074460\ttotal: 1.87s\tremaining: 693ms\n",
      "3700:\tlearn: 0.0073334\ttotal: 1.9s\tremaining: 667ms\n",
      "3750:\tlearn: 0.0072212\ttotal: 1.92s\tremaining: 641ms\n",
      "3800:\tlearn: 0.0071139\ttotal: 1.95s\tremaining: 615ms\n",
      "3850:\tlearn: 0.0070130\ttotal: 1.97s\tremaining: 589ms\n",
      "3900:\tlearn: 0.0069111\ttotal: 2s\tremaining: 564ms\n",
      "3950:\tlearn: 0.0068083\ttotal: 2.03s\tremaining: 538ms\n",
      "4000:\tlearn: 0.0067152\ttotal: 2.05s\tremaining: 513ms\n",
      "4050:\tlearn: 0.0066210\ttotal: 2.08s\tremaining: 486ms\n",
      "4100:\tlearn: 0.0065297\ttotal: 2.1s\tremaining: 461ms\n",
      "4150:\tlearn: 0.0064433\ttotal: 2.13s\tremaining: 435ms\n",
      "4200:\tlearn: 0.0063576\ttotal: 2.15s\tremaining: 409ms\n",
      "4250:\tlearn: 0.0062756\ttotal: 2.18s\tremaining: 384ms\n",
      "4300:\tlearn: 0.0061983\ttotal: 2.2s\tremaining: 358ms\n",
      "4350:\tlearn: 0.0061166\ttotal: 2.23s\tremaining: 333ms\n",
      "4400:\tlearn: 0.0060388\ttotal: 2.26s\tremaining: 307ms\n",
      "4450:\tlearn: 0.0059680\ttotal: 2.28s\tremaining: 282ms\n",
      "4500:\tlearn: 0.0058916\ttotal: 2.31s\tremaining: 256ms\n",
      "4550:\tlearn: 0.0058184\ttotal: 2.34s\tremaining: 231ms\n",
      "4600:\tlearn: 0.0057469\ttotal: 2.36s\tremaining: 205ms\n",
      "4650:\tlearn: 0.0056804\ttotal: 2.39s\tremaining: 179ms\n",
      "4700:\tlearn: 0.0056167\ttotal: 2.42s\tremaining: 154ms\n",
      "4750:\tlearn: 0.0055544\ttotal: 2.44s\tremaining: 128ms\n",
      "4800:\tlearn: 0.0054866\ttotal: 2.47s\tremaining: 102ms\n",
      "4850:\tlearn: 0.0054257\ttotal: 2.49s\tremaining: 76.5ms\n",
      "4900:\tlearn: 0.0053634\ttotal: 2.52s\tremaining: 50.8ms\n",
      "4950:\tlearn: 0.0053062\ttotal: 2.54s\tremaining: 25.1ms\n",
      "4999:\tlearn: 0.0052508\ttotal: 2.57s\tremaining: 0us\n",
      "Learning rate set to 0.018576\n",
      "0:\tlearn: 1.0795113\ttotal: 459us\tremaining: 2.3s\n",
      "50:\tlearn: 0.5876176\ttotal: 27.1ms\tremaining: 2.63s\n",
      "100:\tlearn: 0.3867140\ttotal: 51.3ms\tremaining: 2.49s\n",
      "150:\tlearn: 0.2822059\ttotal: 76.5ms\tremaining: 2.46s\n",
      "200:\tlearn: 0.2184388\ttotal: 102ms\tremaining: 2.43s\n",
      "250:\tlearn: 0.1780255\ttotal: 127ms\tremaining: 2.41s\n",
      "300:\tlearn: 0.1491643\ttotal: 154ms\tremaining: 2.41s\n",
      "350:\tlearn: 0.1273406\ttotal: 181ms\tremaining: 2.4s\n",
      "400:\tlearn: 0.1106201\ttotal: 210ms\tremaining: 2.41s\n",
      "450:\tlearn: 0.0975546\ttotal: 239ms\tremaining: 2.41s\n",
      "500:\tlearn: 0.0870571\ttotal: 268ms\tremaining: 2.41s\n",
      "550:\tlearn: 0.0781455\ttotal: 294ms\tremaining: 2.37s\n",
      "600:\tlearn: 0.0709844\ttotal: 320ms\tremaining: 2.34s\n",
      "650:\tlearn: 0.0649567\ttotal: 356ms\tremaining: 2.38s\n",
      "700:\tlearn: 0.0597272\ttotal: 386ms\tremaining: 2.37s\n",
      "750:\tlearn: 0.0551436\ttotal: 414ms\tremaining: 2.34s\n",
      "800:\tlearn: 0.0512410\ttotal: 439ms\tremaining: 2.3s\n",
      "850:\tlearn: 0.0478845\ttotal: 465ms\tremaining: 2.27s\n",
      "900:\tlearn: 0.0448992\ttotal: 490ms\tremaining: 2.23s\n",
      "950:\tlearn: 0.0421528\ttotal: 514ms\tremaining: 2.19s\n",
      "1000:\tlearn: 0.0396863\ttotal: 543ms\tremaining: 2.17s\n",
      "1050:\tlearn: 0.0374799\ttotal: 570ms\tremaining: 2.14s\n",
      "1100:\tlearn: 0.0354941\ttotal: 594ms\tremaining: 2.1s\n",
      "1150:\tlearn: 0.0337213\ttotal: 618ms\tremaining: 2.07s\n",
      "1200:\tlearn: 0.0320521\ttotal: 643ms\tremaining: 2.03s\n",
      "1250:\tlearn: 0.0305057\ttotal: 673ms\tremaining: 2.02s\n",
      "1300:\tlearn: 0.0291129\ttotal: 700ms\tremaining: 1.99s\n",
      "1350:\tlearn: 0.0278113\ttotal: 728ms\tremaining: 1.97s\n",
      "1400:\tlearn: 0.0266380\ttotal: 755ms\tremaining: 1.94s\n",
      "1450:\tlearn: 0.0255679\ttotal: 781ms\tremaining: 1.91s\n",
      "1500:\tlearn: 0.0245780\ttotal: 814ms\tremaining: 1.9s\n",
      "1550:\tlearn: 0.0236373\ttotal: 845ms\tremaining: 1.88s\n",
      "1600:\tlearn: 0.0227941\ttotal: 882ms\tremaining: 1.87s\n",
      "1650:\tlearn: 0.0219872\ttotal: 916ms\tremaining: 1.86s\n",
      "1700:\tlearn: 0.0212050\ttotal: 948ms\tremaining: 1.84s\n",
      "1750:\tlearn: 0.0205028\ttotal: 980ms\tremaining: 1.82s\n",
      "1800:\tlearn: 0.0198302\ttotal: 1.01s\tremaining: 1.79s\n",
      "1850:\tlearn: 0.0191992\ttotal: 1.04s\tremaining: 1.77s\n",
      "1900:\tlearn: 0.0186024\ttotal: 1.07s\tremaining: 1.75s\n",
      "1950:\tlearn: 0.0180426\ttotal: 1.1s\tremaining: 1.73s\n",
      "2000:\tlearn: 0.0175153\ttotal: 1.14s\tremaining: 1.7s\n",
      "2050:\tlearn: 0.0170147\ttotal: 1.17s\tremaining: 1.68s\n",
      "2100:\tlearn: 0.0165568\ttotal: 1.2s\tremaining: 1.66s\n",
      "2150:\tlearn: 0.0161022\ttotal: 1.24s\tremaining: 1.64s\n",
      "2200:\tlearn: 0.0156827\ttotal: 1.27s\tremaining: 1.62s\n",
      "2250:\tlearn: 0.0152782\ttotal: 1.31s\tremaining: 1.59s\n",
      "2300:\tlearn: 0.0149110\ttotal: 1.34s\tremaining: 1.57s\n",
      "2350:\tlearn: 0.0145405\ttotal: 1.38s\tremaining: 1.55s\n",
      "2400:\tlearn: 0.0141807\ttotal: 1.41s\tremaining: 1.52s\n",
      "2450:\tlearn: 0.0138532\ttotal: 1.44s\tremaining: 1.5s\n",
      "2500:\tlearn: 0.0135265\ttotal: 1.47s\tremaining: 1.47s\n",
      "2550:\tlearn: 0.0132051\ttotal: 1.5s\tremaining: 1.44s\n",
      "2600:\tlearn: 0.0129098\ttotal: 1.53s\tremaining: 1.41s\n",
      "2650:\tlearn: 0.0126319\ttotal: 1.57s\tremaining: 1.39s\n",
      "2700:\tlearn: 0.0123576\ttotal: 1.6s\tremaining: 1.36s\n",
      "2750:\tlearn: 0.0120937\ttotal: 1.63s\tremaining: 1.33s\n",
      "2800:\tlearn: 0.0118504\ttotal: 1.66s\tremaining: 1.3s\n",
      "2850:\tlearn: 0.0116182\ttotal: 1.69s\tremaining: 1.28s\n",
      "2900:\tlearn: 0.0113897\ttotal: 1.73s\tremaining: 1.25s\n",
      "2950:\tlearn: 0.0111629\ttotal: 1.76s\tremaining: 1.22s\n",
      "3000:\tlearn: 0.0109431\ttotal: 1.79s\tremaining: 1.19s\n",
      "3050:\tlearn: 0.0107395\ttotal: 1.82s\tremaining: 1.17s\n",
      "3100:\tlearn: 0.0105355\ttotal: 1.85s\tremaining: 1.14s\n",
      "3150:\tlearn: 0.0103441\ttotal: 1.89s\tremaining: 1.11s\n",
      "3200:\tlearn: 0.0101678\ttotal: 1.92s\tremaining: 1.08s\n",
      "3250:\tlearn: 0.0099897\ttotal: 1.95s\tremaining: 1.05s\n",
      "3300:\tlearn: 0.0098174\ttotal: 1.99s\tremaining: 1.02s\n",
      "3350:\tlearn: 0.0096500\ttotal: 2.02s\tremaining: 994ms\n",
      "3400:\tlearn: 0.0094872\ttotal: 2.05s\tremaining: 965ms\n",
      "3450:\tlearn: 0.0093367\ttotal: 2.08s\tremaining: 936ms\n",
      "3500:\tlearn: 0.0091803\ttotal: 2.12s\tremaining: 906ms\n",
      "3550:\tlearn: 0.0090335\ttotal: 2.15s\tremaining: 876ms\n",
      "3600:\tlearn: 0.0088911\ttotal: 2.18s\tremaining: 847ms\n",
      "3650:\tlearn: 0.0087537\ttotal: 2.22s\tremaining: 819ms\n",
      "3700:\tlearn: 0.0086169\ttotal: 2.25s\tremaining: 790ms\n",
      "3750:\tlearn: 0.0084875\ttotal: 2.28s\tremaining: 760ms\n",
      "3800:\tlearn: 0.0083673\ttotal: 2.31s\tremaining: 730ms\n",
      "3850:\tlearn: 0.0082405\ttotal: 2.35s\tremaining: 700ms\n",
      "3900:\tlearn: 0.0081163\ttotal: 2.38s\tremaining: 672ms\n",
      "3950:\tlearn: 0.0079969\ttotal: 2.42s\tremaining: 642ms\n",
      "4000:\tlearn: 0.0078832\ttotal: 2.45s\tremaining: 612ms\n",
      "4050:\tlearn: 0.0077743\ttotal: 2.48s\tremaining: 582ms\n",
      "4100:\tlearn: 0.0076710\ttotal: 2.52s\tremaining: 552ms\n",
      "4150:\tlearn: 0.0075664\ttotal: 2.56s\tremaining: 523ms\n",
      "4200:\tlearn: 0.0074700\ttotal: 2.59s\tremaining: 493ms\n",
      "4250:\tlearn: 0.0073721\ttotal: 2.62s\tremaining: 462ms\n",
      "4300:\tlearn: 0.0072801\ttotal: 2.65s\tremaining: 431ms\n",
      "4350:\tlearn: 0.0071885\ttotal: 2.68s\tremaining: 400ms\n",
      "4400:\tlearn: 0.0070963\ttotal: 2.72s\tremaining: 370ms\n",
      "4450:\tlearn: 0.0070085\ttotal: 2.76s\tremaining: 340ms\n",
      "4500:\tlearn: 0.0069232\ttotal: 2.8s\tremaining: 310ms\n",
      "4550:\tlearn: 0.0068332\ttotal: 2.84s\tremaining: 280ms\n",
      "4600:\tlearn: 0.0067526\ttotal: 2.89s\tremaining: 250ms\n",
      "4650:\tlearn: 0.0066678\ttotal: 2.93s\tremaining: 220ms\n",
      "4700:\tlearn: 0.0065878\ttotal: 2.96s\tremaining: 189ms\n",
      "4750:\tlearn: 0.0065131\ttotal: 2.99s\tremaining: 157ms\n",
      "4800:\tlearn: 0.0064387\ttotal: 3.02s\tremaining: 125ms\n",
      "4850:\tlearn: 0.0063650\ttotal: 3.06s\tremaining: 93.8ms\n",
      "4900:\tlearn: 0.0062943\ttotal: 3.09s\tremaining: 62.3ms\n",
      "4950:\tlearn: 0.0062258\ttotal: 3.12s\tremaining: 30.9ms\n",
      "4999:\tlearn: 0.0061579\ttotal: 3.15s\tremaining: 0us\n",
      "Learning rate set to 0.018576\n",
      "0:\tlearn: 1.0833340\ttotal: 738us\tremaining: 3.69s\n",
      "50:\tlearn: 0.6153140\ttotal: 33ms\tremaining: 3.2s\n",
      "100:\tlearn: 0.4051152\ttotal: 61.1ms\tremaining: 2.96s\n",
      "150:\tlearn: 0.2901546\ttotal: 90.5ms\tremaining: 2.91s\n",
      "200:\tlearn: 0.2267045\ttotal: 120ms\tremaining: 2.87s\n",
      "250:\tlearn: 0.1824889\ttotal: 149ms\tremaining: 2.83s\n",
      "300:\tlearn: 0.1521588\ttotal: 181ms\tremaining: 2.82s\n",
      "350:\tlearn: 0.1292731\ttotal: 213ms\tremaining: 2.82s\n",
      "400:\tlearn: 0.1121352\ttotal: 245ms\tremaining: 2.81s\n",
      "450:\tlearn: 0.0983174\ttotal: 281ms\tremaining: 2.83s\n",
      "500:\tlearn: 0.0872405\ttotal: 311ms\tremaining: 2.8s\n",
      "550:\tlearn: 0.0784089\ttotal: 343ms\tremaining: 2.77s\n",
      "600:\tlearn: 0.0708966\ttotal: 376ms\tremaining: 2.75s\n",
      "650:\tlearn: 0.0647437\ttotal: 409ms\tremaining: 2.73s\n",
      "700:\tlearn: 0.0593560\ttotal: 439ms\tremaining: 2.69s\n",
      "750:\tlearn: 0.0548738\ttotal: 473ms\tremaining: 2.67s\n",
      "800:\tlearn: 0.0510293\ttotal: 517ms\tremaining: 2.71s\n",
      "850:\tlearn: 0.0475529\ttotal: 556ms\tremaining: 2.71s\n",
      "900:\tlearn: 0.0445195\ttotal: 592ms\tremaining: 2.69s\n",
      "950:\tlearn: 0.0418591\ttotal: 629ms\tremaining: 2.68s\n",
      "1000:\tlearn: 0.0394201\ttotal: 660ms\tremaining: 2.64s\n",
      "1050:\tlearn: 0.0372389\ttotal: 692ms\tremaining: 2.6s\n",
      "1100:\tlearn: 0.0352200\ttotal: 722ms\tremaining: 2.56s\n",
      "1150:\tlearn: 0.0335068\ttotal: 753ms\tremaining: 2.52s\n",
      "1200:\tlearn: 0.0318372\ttotal: 788ms\tremaining: 2.49s\n",
      "1250:\tlearn: 0.0302982\ttotal: 821ms\tremaining: 2.46s\n",
      "1300:\tlearn: 0.0289208\ttotal: 853ms\tremaining: 2.42s\n",
      "1350:\tlearn: 0.0276081\ttotal: 881ms\tremaining: 2.38s\n",
      "1400:\tlearn: 0.0264103\ttotal: 911ms\tremaining: 2.34s\n",
      "1450:\tlearn: 0.0252992\ttotal: 939ms\tremaining: 2.3s\n",
      "1500:\tlearn: 0.0243051\ttotal: 968ms\tremaining: 2.26s\n",
      "1550:\tlearn: 0.0234007\ttotal: 997ms\tremaining: 2.22s\n",
      "1600:\tlearn: 0.0225190\ttotal: 1.03s\tremaining: 2.18s\n",
      "1650:\tlearn: 0.0217470\ttotal: 1.05s\tremaining: 2.14s\n",
      "1700:\tlearn: 0.0209905\ttotal: 1.09s\tremaining: 2.11s\n",
      "1750:\tlearn: 0.0202988\ttotal: 1.11s\tremaining: 2.07s\n",
      "1800:\tlearn: 0.0196274\ttotal: 1.14s\tremaining: 2.03s\n",
      "1850:\tlearn: 0.0189821\ttotal: 1.17s\tremaining: 1.99s\n",
      "1900:\tlearn: 0.0184149\ttotal: 1.2s\tremaining: 1.96s\n",
      "1950:\tlearn: 0.0178689\ttotal: 1.23s\tremaining: 1.92s\n",
      "2000:\tlearn: 0.0173466\ttotal: 1.26s\tremaining: 1.88s\n",
      "2050:\tlearn: 0.0168689\ttotal: 1.29s\tremaining: 1.86s\n",
      "2100:\tlearn: 0.0164069\ttotal: 1.32s\tremaining: 1.82s\n",
      "2150:\tlearn: 0.0159722\ttotal: 1.35s\tremaining: 1.79s\n",
      "2200:\tlearn: 0.0155524\ttotal: 1.38s\tremaining: 1.76s\n",
      "2250:\tlearn: 0.0151562\ttotal: 1.41s\tremaining: 1.72s\n",
      "2300:\tlearn: 0.0147925\ttotal: 1.44s\tremaining: 1.69s\n",
      "2350:\tlearn: 0.0144252\ttotal: 1.47s\tremaining: 1.66s\n",
      "2400:\tlearn: 0.0140761\ttotal: 1.5s\tremaining: 1.63s\n",
      "2450:\tlearn: 0.0137479\ttotal: 1.53s\tremaining: 1.6s\n",
      "2500:\tlearn: 0.0134422\ttotal: 1.57s\tremaining: 1.57s\n",
      "2550:\tlearn: 0.0131265\ttotal: 1.6s\tremaining: 1.54s\n",
      "2600:\tlearn: 0.0128457\ttotal: 1.64s\tremaining: 1.51s\n",
      "2650:\tlearn: 0.0125727\ttotal: 1.67s\tremaining: 1.48s\n",
      "2700:\tlearn: 0.0123105\ttotal: 1.71s\tremaining: 1.45s\n",
      "2750:\tlearn: 0.0120631\ttotal: 1.74s\tremaining: 1.42s\n",
      "2800:\tlearn: 0.0118300\ttotal: 1.77s\tremaining: 1.39s\n",
      "2850:\tlearn: 0.0115950\ttotal: 1.79s\tremaining: 1.35s\n",
      "2900:\tlearn: 0.0113482\ttotal: 1.82s\tremaining: 1.32s\n",
      "2950:\tlearn: 0.0111307\ttotal: 1.85s\tremaining: 1.29s\n",
      "3000:\tlearn: 0.0109167\ttotal: 1.89s\tremaining: 1.26s\n",
      "3050:\tlearn: 0.0107101\ttotal: 1.92s\tremaining: 1.23s\n",
      "3100:\tlearn: 0.0105154\ttotal: 1.96s\tremaining: 1.2s\n",
      "3150:\tlearn: 0.0103238\ttotal: 1.99s\tremaining: 1.17s\n",
      "3200:\tlearn: 0.0101446\ttotal: 2.02s\tremaining: 1.14s\n",
      "3250:\tlearn: 0.0099636\ttotal: 2.05s\tremaining: 1.1s\n",
      "3300:\tlearn: 0.0097927\ttotal: 2.08s\tremaining: 1.07s\n",
      "3350:\tlearn: 0.0096263\ttotal: 2.12s\tremaining: 1.04s\n",
      "3400:\tlearn: 0.0094660\ttotal: 2.15s\tremaining: 1.01s\n",
      "3450:\tlearn: 0.0093133\ttotal: 2.19s\tremaining: 982ms\n",
      "3500:\tlearn: 0.0091648\ttotal: 2.22s\tremaining: 951ms\n",
      "3550:\tlearn: 0.0090150\ttotal: 2.25s\tremaining: 919ms\n",
      "3600:\tlearn: 0.0088682\ttotal: 2.29s\tremaining: 888ms\n",
      "3650:\tlearn: 0.0087319\ttotal: 2.33s\tremaining: 859ms\n",
      "3700:\tlearn: 0.0085982\ttotal: 2.36s\tremaining: 830ms\n",
      "3750:\tlearn: 0.0084745\ttotal: 2.4s\tremaining: 800ms\n",
      "3800:\tlearn: 0.0083511\ttotal: 2.44s\tremaining: 769ms\n",
      "3850:\tlearn: 0.0082300\ttotal: 2.47s\tremaining: 737ms\n",
      "3900:\tlearn: 0.0081164\ttotal: 2.5s\tremaining: 705ms\n",
      "3950:\tlearn: 0.0079987\ttotal: 2.54s\tremaining: 673ms\n",
      "4000:\tlearn: 0.0078844\ttotal: 2.57s\tremaining: 641ms\n",
      "4050:\tlearn: 0.0077719\ttotal: 2.6s\tremaining: 609ms\n",
      "4100:\tlearn: 0.0076625\ttotal: 2.64s\tremaining: 578ms\n",
      "4150:\tlearn: 0.0075607\ttotal: 2.68s\tremaining: 548ms\n",
      "4200:\tlearn: 0.0074590\ttotal: 2.73s\tremaining: 520ms\n",
      "4250:\tlearn: 0.0073591\ttotal: 2.8s\tremaining: 493ms\n",
      "4300:\tlearn: 0.0072638\ttotal: 2.84s\tremaining: 462ms\n",
      "4350:\tlearn: 0.0071736\ttotal: 2.9s\tremaining: 433ms\n",
      "4400:\tlearn: 0.0070813\ttotal: 2.94s\tremaining: 400ms\n",
      "4450:\tlearn: 0.0069925\ttotal: 2.98s\tremaining: 367ms\n",
      "4500:\tlearn: 0.0069007\ttotal: 3.01s\tremaining: 334ms\n",
      "4550:\tlearn: 0.0068148\ttotal: 3.04s\tremaining: 300ms\n",
      "4600:\tlearn: 0.0067346\ttotal: 3.08s\tremaining: 267ms\n",
      "4650:\tlearn: 0.0066545\ttotal: 3.11s\tremaining: 233ms\n",
      "4700:\tlearn: 0.0065760\ttotal: 3.14s\tremaining: 200ms\n",
      "4750:\tlearn: 0.0064981\ttotal: 3.17s\tremaining: 166ms\n",
      "4800:\tlearn: 0.0064249\ttotal: 3.21s\tremaining: 133ms\n",
      "4850:\tlearn: 0.0063469\ttotal: 3.24s\tremaining: 99.6ms\n",
      "4900:\tlearn: 0.0062730\ttotal: 3.28s\tremaining: 66.3ms\n",
      "4950:\tlearn: 0.0062023\ttotal: 3.32s\tremaining: 32.8ms\n",
      "4999:\tlearn: 0.0061271\ttotal: 3.35s\tremaining: 0us\n"
     ]
    }
   ],
   "source": [
    "from catboost import CatBoostClassifier\n",
    "from sklearn.model_selection import KFold\n",
    "from sklearn.model_selection import cross_val_score\n",
    "from sklearn.metrics import accuracy_score\n",
    "\n",
    "history = []\n",
    "\n",
    "kf = KFold(n_splits=3,shuffle = True, random_state=3)\n",
    "\n",
    "use_sel = use_sel.remove('trait')\n",
    "model = CatBoostClassifier(iterations=5000,random_state=2023, nan_mode='Min')\n",
    "\n",
    "for train_idx,test_idx in kf.split(X):\n",
    "\n",
    "    X_train, X_test = X[train_idx], X[test_idx]\n",
    "    y_train, y_test = y[train_idx], y[test_idx]\n",
    "    \n",
    "    model.fit(X_train,y_train, verbose=50)\n",
    "    y_pred = model.predict(X_test)\n",
    "    history.append(accuracy_score(y_pred,y_test))\n",
    "\n"
   ]
  },
  {
   "cell_type": "code",
   "execution_count": 38,
   "metadata": {},
   "outputs": [],
   "source": [
    "pred = model.predict(test)"
   ]
  },
  {
   "cell_type": "code",
   "execution_count": 39,
   "metadata": {},
   "outputs": [
    {
     "name": "stdout",
     "output_type": "stream",
     "text": [
      "각 분할의 정확도 기록 : [0.9425287356321839, 0.9425287356321839, 0.9195402298850575]\n",
      "평균 정확도 : 0.9348659003831417\n"
     ]
    }
   ],
   "source": [
    "print(\"각 분할의 정확도 기록 :\", history) \n",
    "print(\"평균 정확도 :\", np.mean(history))"
   ]
  },
  {
   "cell_type": "code",
   "execution_count": 40,
   "metadata": {},
   "outputs": [],
   "source": [
    "submit = pd.read_csv('./data/sample_submission.csv')"
   ]
  },
  {
   "cell_type": "code",
   "execution_count": 41,
   "metadata": {},
   "outputs": [],
   "source": [
    "pred_inverslabel = []\n",
    "for i in pred:\n",
    "    if(i == 0):\n",
    "        pred_inverslabel.append(\"A\")\n",
    "    elif(i == 1):\n",
    "        pred_inverslabel.append(\"B\")\n",
    "    elif(i == 2):\n",
    "        pred_inverslabel.append(\"C\")"
   ]
  },
  {
   "cell_type": "code",
   "execution_count": 42,
   "metadata": {},
   "outputs": [],
   "source": [
    "submit['class'] = pred_inverslabel"
   ]
  },
  {
   "cell_type": "code",
   "execution_count": 43,
   "metadata": {},
   "outputs": [],
   "source": [
    "submit.to_csv('./submit/catoost_submit3.csv', index=False)"
   ]
  }
 ],
 "metadata": {
  "kernelspec": {
   "display_name": "tf22",
   "language": "python",
   "name": "python3"
  },
  "language_info": {
   "codemirror_mode": {
    "name": "ipython",
    "version": 3
   },
   "file_extension": ".py",
   "mimetype": "text/x-python",
   "name": "python",
   "nbconvert_exporter": "python",
   "pygments_lexer": "ipython3",
   "version": "3.8.15 (default, Nov  4 2022, 15:16:59) [MSC v.1916 64 bit (AMD64)]"
  },
  "orig_nbformat": 4,
  "vscode": {
   "interpreter": {
    "hash": "4fed360fcce9d32d67009344cdf42ada3f922858979278fbb06c048961c3055e"
   }
  }
 },
 "nbformat": 4,
 "nbformat_minor": 2
}
